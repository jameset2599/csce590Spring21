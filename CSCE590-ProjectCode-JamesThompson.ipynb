{
 "cells": [
  {
   "cell_type": "code",
   "execution_count": 1,
   "id": "superb-purse",
   "metadata": {},
   "outputs": [],
   "source": [
    "# CSCE590 - Project Codebook (Electric Vehicles)\n",
    "# This file was written by James Thompson."
   ]
  },
  {
   "cell_type": "code",
   "execution_count": 2,
   "id": "english-launch",
   "metadata": {},
   "outputs": [],
   "source": [
    "# Importing modules.\n",
    "import numpy as np\n",
    "import pandas as pd\n",
    "import matplotlib.pyplot as plt"
   ]
  },
  {
   "cell_type": "code",
   "execution_count": 3,
   "id": "sacred-footage",
   "metadata": {},
   "outputs": [],
   "source": [
    "# Reading data: atmosphericCO2.csv\n",
    "atmo = pd.read_csv(\"CSCE590 Data/atmosphericCO2.csv\", index_col=\"Year\")"
   ]
  },
  {
   "cell_type": "code",
   "execution_count": 4,
   "id": "comparable-plane",
   "metadata": {},
   "outputs": [],
   "source": [
    "# Reading data: emissionsUK.csv\n",
    "emi = pd.read_csv(\"CSCE590 Data/emissionsUK.csv\", index_col=\"Manufacturer\")"
   ]
  },
  {
   "cell_type": "code",
   "execution_count": 5,
   "id": "known-essence",
   "metadata": {},
   "outputs": [],
   "source": [
    "# Reading data: evPop.csv\n",
    "evp = pd.read_csv(\"CSCE590 Data/evPop.csv\", index_col=\"VIN (1-10)\")"
   ]
  },
  {
   "cell_type": "code",
   "execution_count": 6,
   "id": "revolutionary-barrier",
   "metadata": {},
   "outputs": [],
   "source": [
    "# Reading data: transportCO2.csv\n",
    "trsp = pd.read_csv(\"CSCE590 Data/transportCO2.csv\", index_col=\"Category\")"
   ]
  },
  {
   "cell_type": "code",
   "execution_count": 7,
   "id": "separate-blank",
   "metadata": {},
   "outputs": [],
   "source": [
    "# Part I: Predicting the future...how CO2 continues to rise."
   ]
  },
  {
   "cell_type": "code",
   "execution_count": 8,
   "id": "future-chair",
   "metadata": {},
   "outputs": [
    {
     "data": {
      "text/html": [
       "<div>\n",
       "<style scoped>\n",
       "    .dataframe tbody tr th:only-of-type {\n",
       "        vertical-align: middle;\n",
       "    }\n",
       "\n",
       "    .dataframe tbody tr th {\n",
       "        vertical-align: top;\n",
       "    }\n",
       "\n",
       "    .dataframe thead th {\n",
       "        text-align: right;\n",
       "    }\n",
       "</style>\n",
       "<table border=\"1\" class=\"dataframe\">\n",
       "  <thead>\n",
       "    <tr style=\"text-align: right;\">\n",
       "      <th></th>\n",
       "      <th>CO2ppm</th>\n",
       "    </tr>\n",
       "    <tr>\n",
       "      <th>Year</th>\n",
       "      <th></th>\n",
       "    </tr>\n",
       "  </thead>\n",
       "  <tbody>\n",
       "    <tr>\n",
       "      <th>1958</th>\n",
       "      <td>315.330000</td>\n",
       "    </tr>\n",
       "    <tr>\n",
       "      <th>1959</th>\n",
       "      <td>315.981667</td>\n",
       "    </tr>\n",
       "    <tr>\n",
       "      <th>1960</th>\n",
       "      <td>316.908333</td>\n",
       "    </tr>\n",
       "    <tr>\n",
       "      <th>1961</th>\n",
       "      <td>317.645000</td>\n",
       "    </tr>\n",
       "    <tr>\n",
       "      <th>1962</th>\n",
       "      <td>318.453333</td>\n",
       "    </tr>\n",
       "  </tbody>\n",
       "</table>\n",
       "</div>"
      ],
      "text/plain": [
       "          CO2ppm\n",
       "Year            \n",
       "1958  315.330000\n",
       "1959  315.981667\n",
       "1960  316.908333\n",
       "1961  317.645000\n",
       "1962  318.453333"
      ]
     },
     "execution_count": 8,
     "metadata": {},
     "output_type": "execute_result"
    }
   ],
   "source": [
    "# Creating fixed data for Part I: averaging CO2 measurements by the year\n",
    "atmoF = atmo.rename(columns={\"Carbon Dioxide (ppm)\": \"CO2ppm\"})\n",
    "atmoF = atmoF.groupby(\"Year\").CO2ppm.mean()\n",
    "atmoF.head().to_frame()"
   ]
  },
  {
   "cell_type": "code",
   "execution_count": 9,
   "id": "uniform-print",
   "metadata": {},
   "outputs": [
    {
     "data": {
      "image/png": "[encoded data removed]",
      "text/plain": [
       "<Figure size 432x288 with 1 Axes>"
      ]
     },
     "metadata": {
      "needs_background": "light"
     },
     "output_type": "display_data"
    }
   ],
   "source": [
    "# Plotting data for Part I: CO2 in the atmosphere over the years provided.\n",
    "atmoF.plot(y=\"CO2ppm\", x=\"Year\")\n",
    "plt.savefig(\"atmoF_plot.png\")"
   ]
  },
  {
   "cell_type": "code",
   "execution_count": 10,
   "id": "speaking-survival",
   "metadata": {},
   "outputs": [
    {
     "data": {
      "text/html": [
       "<div>\n",
       "<style scoped>\n",
       "    .dataframe tbody tr th:only-of-type {\n",
       "        vertical-align: middle;\n",
       "    }\n",
       "\n",
       "    .dataframe tbody tr th {\n",
       "        vertical-align: top;\n",
       "    }\n",
       "\n",
       "    .dataframe thead th {\n",
       "        text-align: right;\n",
       "    }\n",
       "</style>\n",
       "<table border=\"1\" class=\"dataframe\">\n",
       "  <thead>\n",
       "    <tr style=\"text-align: right;\">\n",
       "      <th></th>\n",
       "      <th>Year</th>\n",
       "      <th>CO2em</th>\n",
       "    </tr>\n",
       "  </thead>\n",
       "  <tbody>\n",
       "    <tr>\n",
       "      <th>0</th>\n",
       "      <td>1990</td>\n",
       "      <td>5.947</td>\n",
       "    </tr>\n",
       "    <tr>\n",
       "      <th>1</th>\n",
       "      <td>1991</td>\n",
       "      <td>6.020</td>\n",
       "    </tr>\n",
       "    <tr>\n",
       "      <th>2</th>\n",
       "      <td>1992</td>\n",
       "      <td>6.228</td>\n",
       "    </tr>\n",
       "    <tr>\n",
       "      <th>3</th>\n",
       "      <td>1993</td>\n",
       "      <td>6.498</td>\n",
       "    </tr>\n",
       "    <tr>\n",
       "      <th>4</th>\n",
       "      <td>1994</td>\n",
       "      <td>6.688</td>\n",
       "    </tr>\n",
       "  </tbody>\n",
       "</table>\n",
       "</div>"
      ],
      "text/plain": [
       "   Year  CO2em\n",
       "0  1990  5.947\n",
       "1  1991  6.020\n",
       "2  1992  6.228\n",
       "3  1993  6.498\n",
       "4  1994  6.688"
      ]
     },
     "execution_count": 10,
     "metadata": {},
     "output_type": "execute_result"
    }
   ],
   "source": [
    "# Creating fixed data for Part I: transportCO2.csv as it relates to cars ONLY.\n",
    "trspF = pd.read_csv(\"CSCE590 Data/transportCO2F.csv\")\n",
    "trspF = trspF.rename(columns = {\"CO2 emissions (in millions of tons)\": \"CO2em\"})\n",
    "trspF.head()"
   ]
  },
  {
   "cell_type": "code",
   "execution_count": 11,
   "id": "indirect-bibliography",
   "metadata": {},
   "outputs": [
    {
     "data": {
      "image/png": "[encoded data removed]",
      "text/plain": [
       "<Figure size 432x288 with 1 Axes>"
      ]
     },
     "metadata": {
      "needs_background": "light"
     },
     "output_type": "display_data"
    }
   ],
   "source": [
    "# Plotting data for Part I: CO2 emissions by cars over the years provided.\n",
    "trspF.plot(x=\"Year\",y=\"CO2em\")\n",
    "plt.savefig(\"trspF_plot.png\")"
   ]
  },
  {
   "cell_type": "code",
   "execution_count": 12,
   "id": "caroline-disclosure",
   "metadata": {},
   "outputs": [
    {
     "data": {
      "text/html": [
       "<div>\n",
       "<style scoped>\n",
       "    .dataframe tbody tr th:only-of-type {\n",
       "        vertical-align: middle;\n",
       "    }\n",
       "\n",
       "    .dataframe tbody tr th {\n",
       "        vertical-align: top;\n",
       "    }\n",
       "\n",
       "    .dataframe thead th {\n",
       "        text-align: right;\n",
       "    }\n",
       "</style>\n",
       "<table border=\"1\" class=\"dataframe\">\n",
       "  <thead>\n",
       "    <tr style=\"text-align: right;\">\n",
       "      <th></th>\n",
       "      <th>Fuel Type</th>\n",
       "    </tr>\n",
       "  </thead>\n",
       "  <tbody>\n",
       "    <tr>\n",
       "      <th>Diesel</th>\n",
       "      <td>2560</td>\n",
       "    </tr>\n",
       "    <tr>\n",
       "      <th>Petrol</th>\n",
       "      <td>2379</td>\n",
       "    </tr>\n",
       "    <tr>\n",
       "      <th>Petrol Hybrid</th>\n",
       "      <td>73</td>\n",
       "    </tr>\n",
       "    <tr>\n",
       "      <th>Electricity / Petrol</th>\n",
       "      <td>45</td>\n",
       "    </tr>\n",
       "    <tr>\n",
       "      <th>Electricity</th>\n",
       "      <td>30</td>\n",
       "    </tr>\n",
       "    <tr>\n",
       "      <th>Diesel Electric</th>\n",
       "      <td>16</td>\n",
       "    </tr>\n",
       "    <tr>\n",
       "      <th>Petrol Electric</th>\n",
       "      <td>9</td>\n",
       "    </tr>\n",
       "    <tr>\n",
       "      <th>Electricity / Diesel</th>\n",
       "      <td>6</td>\n",
       "    </tr>\n",
       "  </tbody>\n",
       "</table>\n",
       "</div>"
      ],
      "text/plain": [
       "                      Fuel Type\n",
       "Diesel                     2560\n",
       "Petrol                     2379\n",
       "Petrol Hybrid                73\n",
       "Electricity / Petrol         45\n",
       "Electricity                  30\n",
       "Diesel Electric              16\n",
       "Petrol Electric               9\n",
       "Electricity / Diesel          6"
      ]
     },
     "execution_count": 12,
     "metadata": {},
     "output_type": "execute_result"
    }
   ],
   "source": [
    "# Part II: Electric vehicles: a possible solution?\n",
    "# Showing off EV data in various forms.\n",
    "\n",
    "emiFTypes = emi[\"Fuel Type\"].value_counts()\n",
    "emiFTypes.to_frame()"
   ]
  },
  {
   "cell_type": "code",
   "execution_count": 13,
   "id": "checked-arbitration",
   "metadata": {},
   "outputs": [
    {
     "data": {
      "text/html": [
       "<div>\n",
       "<style scoped>\n",
       "    .dataframe tbody tr th:only-of-type {\n",
       "        vertical-align: middle;\n",
       "    }\n",
       "\n",
       "    .dataframe tbody tr th {\n",
       "        vertical-align: top;\n",
       "    }\n",
       "\n",
       "    .dataframe thead th {\n",
       "        text-align: right;\n",
       "    }\n",
       "</style>\n",
       "<table border=\"1\" class=\"dataframe\">\n",
       "  <thead>\n",
       "    <tr style=\"text-align: right;\">\n",
       "      <th></th>\n",
       "      <th>Fuel Type</th>\n",
       "    </tr>\n",
       "  </thead>\n",
       "  <tbody>\n",
       "    <tr>\n",
       "      <th>Diesel</th>\n",
       "      <td>0.500195</td>\n",
       "    </tr>\n",
       "    <tr>\n",
       "      <th>Petrol</th>\n",
       "      <td>0.464830</td>\n",
       "    </tr>\n",
       "    <tr>\n",
       "      <th>Petrol Hybrid</th>\n",
       "      <td>0.014263</td>\n",
       "    </tr>\n",
       "    <tr>\n",
       "      <th>Electricity / Petrol</th>\n",
       "      <td>0.008792</td>\n",
       "    </tr>\n",
       "    <tr>\n",
       "      <th>Electricity</th>\n",
       "      <td>0.005862</td>\n",
       "    </tr>\n",
       "    <tr>\n",
       "      <th>Diesel Electric</th>\n",
       "      <td>0.003126</td>\n",
       "    </tr>\n",
       "    <tr>\n",
       "      <th>Petrol Electric</th>\n",
       "      <td>0.001758</td>\n",
       "    </tr>\n",
       "    <tr>\n",
       "      <th>Electricity / Diesel</th>\n",
       "      <td>0.001172</td>\n",
       "    </tr>\n",
       "  </tbody>\n",
       "</table>\n",
       "</div>"
      ],
      "text/plain": [
       "                      Fuel Type\n",
       "Diesel                 0.500195\n",
       "Petrol                 0.464830\n",
       "Petrol Hybrid          0.014263\n",
       "Electricity / Petrol   0.008792\n",
       "Electricity            0.005862\n",
       "Diesel Electric        0.003126\n",
       "Petrol Electric        0.001758\n",
       "Electricity / Diesel   0.001172"
      ]
     },
     "execution_count": 13,
     "metadata": {},
     "output_type": "execute_result"
    }
   ],
   "source": [
    "# And the above in percentage-distribution form...\n",
    "\n",
    "emiFTypesP = emi[\"Fuel Type\"].value_counts(normalize=True)\n",
    "emiFTypesP.to_frame()"
   ]
  },
  {
   "cell_type": "code",
   "execution_count": 14,
   "id": "printable-waters",
   "metadata": {},
   "outputs": [
    {
     "data": {
      "image/png": "[encoded data removed]",
      "text/plain": [
       "<Figure size 864x576 with 1 Axes>"
      ]
     },
     "metadata": {},
     "output_type": "display_data"
    }
   ],
   "source": [
    "# Pie graph of the distribution of different fuel types in the population.\n",
    "\n",
    "emiFTypes.plot.pie(figsize = (12,8))\n",
    "plt.savefig(\"emiFTypes_pie.png\")"
   ]
  },
  {
   "cell_type": "code",
   "execution_count": 15,
   "id": "different-wrong",
   "metadata": {},
   "outputs": [
    {
     "data": {
      "text/html": [
       "<div>\n",
       "<style scoped>\n",
       "    .dataframe tbody tr th:only-of-type {\n",
       "        vertical-align: middle;\n",
       "    }\n",
       "\n",
       "    .dataframe tbody tr th {\n",
       "        vertical-align: top;\n",
       "    }\n",
       "\n",
       "    .dataframe thead th {\n",
       "        text-align: right;\n",
       "    }\n",
       "</style>\n",
       "<table border=\"1\" class=\"dataframe\">\n",
       "  <thead>\n",
       "    <tr style=\"text-align: right;\">\n",
       "      <th></th>\n",
       "      <th>Emissions CO [mg/km]</th>\n",
       "    </tr>\n",
       "    <tr>\n",
       "      <th>Fuel Type</th>\n",
       "      <th></th>\n",
       "    </tr>\n",
       "  </thead>\n",
       "  <tbody>\n",
       "    <tr>\n",
       "      <th>Diesel</th>\n",
       "      <td>502418.0</td>\n",
       "    </tr>\n",
       "    <tr>\n",
       "      <th>Diesel Electric</th>\n",
       "      <td>4341.0</td>\n",
       "    </tr>\n",
       "    <tr>\n",
       "      <th>Electricity</th>\n",
       "      <td>0.0</td>\n",
       "    </tr>\n",
       "    <tr>\n",
       "      <th>Electricity / Diesel</th>\n",
       "      <td>146.0</td>\n",
       "    </tr>\n",
       "    <tr>\n",
       "      <th>Electricity / Petrol</th>\n",
       "      <td>4613.0</td>\n",
       "    </tr>\n",
       "    <tr>\n",
       "      <th>Petrol</th>\n",
       "      <td>800473.0</td>\n",
       "    </tr>\n",
       "    <tr>\n",
       "      <th>Petrol Electric</th>\n",
       "      <td>3129.0</td>\n",
       "    </tr>\n",
       "    <tr>\n",
       "      <th>Petrol Hybrid</th>\n",
       "      <td>12912.0</td>\n",
       "    </tr>\n",
       "  </tbody>\n",
       "</table>\n",
       "</div>"
      ],
      "text/plain": [
       "                      Emissions CO [mg/km]\n",
       "Fuel Type                                 \n",
       "Diesel                            502418.0\n",
       "Diesel Electric                     4341.0\n",
       "Electricity                            0.0\n",
       "Electricity / Diesel                 146.0\n",
       "Electricity / Petrol                4613.0\n",
       "Petrol                            800473.0\n",
       "Petrol Electric                     3129.0\n",
       "Petrol Hybrid                      12912.0"
      ]
     },
     "execution_count": 15,
     "metadata": {},
     "output_type": "execute_result"
    }
   ],
   "source": [
    "# Summed-up values of CO emissions per fuel type.\n",
    "\n",
    "emiByFT = emi.groupby(\"Fuel Type\")[\"Emissions CO [mg/km]\"].sum()\n",
    "emiByFT.to_frame()"
   ]
  },
  {
   "cell_type": "code",
   "execution_count": null,
   "id": "internal-suggestion",
   "metadata": {},
   "outputs": [],
   "source": []
  }
 ],
 "metadata": {
  "kernelspec": {
   "display_name": "Python 3",
   "language": "python",
   "name": "python3"
  },
  "language_info": {
   "codemirror_mode": {
    "name": "ipython",
    "version": 3
   },
   "file_extension": ".py",
   "mimetype": "text/x-python",
   "name": "python",
   "nbconvert_exporter": "python",
   "pygments_lexer": "ipython3",
   "version": "3.8.5"
  }
 },
 "nbformat": 4,
 "nbformat_minor": 5
}
